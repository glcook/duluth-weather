{
 "cells": [
  {
   "cell_type": "code",
   "execution_count": 96,
   "id": "d30489d1",
   "metadata": {},
   "outputs": [],
   "source": [
    "from bs4 import BeautifulSoup\n",
    "import requests\n",
    "import datetime"
   ]
  },
  {
   "cell_type": "code",
   "execution_count": 157,
   "id": "66c05fd9",
   "metadata": {},
   "outputs": [],
   "source": [
    "# Create list of dates in url query format for almanac.com from Jan 1 1990 to May 31 2022\n",
    "\n",
    "start_date = datetime.datetime(1990, 1, 1, 0, 0, 0, 0)\n",
    "# end_date = datetime.datetime(2022, 6, 1, 0, 0, 0, 0) # Use June 1 as end bc loop will not execute last for last date\n",
    "end_date = datetime.datetime(1990, 1, 3, 0, 0, 0, 0) # Use June 1 as end bc loop will not execute last for last date\n",
    "\n",
    "delta = end_date - start_date\n",
    "num_days = delta.days\n",
    "\n",
    "date_list = []\n",
    "\n",
    "for i in range(num_days):\n",
    "    cur_date = start_date + datetime.timedelta(days=i)\n",
    "    date_list.append(cur_date.strftime('%Y-%m-%d'))"
   ]
  },
  {
   "cell_type": "code",
   "execution_count": 166,
   "id": "1bb80d35",
   "metadata": {},
   "outputs": [
    {
     "name": "stdout",
     "output_type": "stream",
     "text": [
      "1990-01-01 data fetched ###### 0.00% complete ###### elapsed time: 0:00:00.724823\n",
      "1990-01-02 data fetched ###### 50.00% complete ###### elapsed time: 0:00:01.396045\n"
     ]
    }
   ],
   "source": [
    "# Scrape data for each date from almanac.com and store in dictionary\n",
    "\n",
    "# Create text file to write data to; write headers\n",
    "with open('weather_data.txt', 'w') as f:\n",
    "    f.write('date,min_temp,mean_temp,max_temp,total_precip,visibilty,snow_depth,mean_wind_spd,max_sus_wind_spd\\n')\n",
    "\n",
    "# Searh url for almanac.com weather history, will append date to end\n",
    "base_url = \"https://www.almanac.com/weather/history/MN/Duluth/\"\n",
    "day = 0 # Counter for loop\n",
    "\n",
    "strt_stmp = datetime.datetime.now() # Start timestamp of scraping\n",
    "\n",
    "for d in date_list:\n",
    "    # Get current day data from url, store in dictionary\n",
    "    url = base_url + d\n",
    "    result = requests.get(url)\n",
    "    doc = BeautifulSoup(result.text, \"html.parser\")\n",
    "    \n",
    "    cur_headers = []\n",
    "    for header in doc.find_all('th'):\n",
    "        if (header.h3 is not None):\n",
    "            cur_headers.append(header.contents[0].string)\n",
    "            \n",
    "    cur_data = []\n",
    "    for i in doc.find_all('td'):\n",
    "        cur_data.append(i.p.contents[0].string)\n",
    "        \n",
    "    weather_data = {}\n",
    "    for hdr, dta in zip(cur_headers, cur_data):\n",
    "        weather_data[hdr] = dta\n",
    "    \n",
    "    # Append data from dictionary to text csv file\n",
    "    with open('weather_data.txt', 'a') as f:\n",
    "        write_str = d + ','\n",
    "        write_str += weather_data['Minimum Temperature'] + ','\n",
    "        write_str += weather_data['Mean Temperature'] + ','\n",
    "        write_str += weather_data['Maximum Temperature'] + ','\n",
    "        write_str += weather_data['Total Precipitation'] + ','\n",
    "        write_str += weather_data['Visibility'] + ','\n",
    "        write_str += weather_data['Snow Depth'] + ','\n",
    "        write_str += weather_data['Mean Wind Speed'] + ','\n",
    "        write_str += weather_data['Maximum Sustained Wind Speed'] + '\\n'\n",
    "        f.write(write_str)\n",
    "    \n",
    "    # Print scraping status and increment counter\n",
    "    pct_complete = float(day / num_days)\n",
    "    tmstmp = datetime.datetime.now()\n",
    "    run_time = tmstmp - strt_stmp\n",
    "    day += 1\n",
    "    \n",
    "    print(f\"{d} data fetched ###### {pct_complete:.2%} complete ###### elapsed time: {run_time}\")"
   ]
  },
  {
   "cell_type": "code",
   "execution_count": null,
   "id": "14055c1d",
   "metadata": {},
   "outputs": [],
   "source": []
  }
 ],
 "metadata": {
  "kernelspec": {
   "display_name": "Python 3 (ipykernel)",
   "language": "python",
   "name": "python3"
  },
  "language_info": {
   "codemirror_mode": {
    "name": "ipython",
    "version": 3
   },
   "file_extension": ".py",
   "mimetype": "text/x-python",
   "name": "python",
   "nbconvert_exporter": "python",
   "pygments_lexer": "ipython3",
   "version": "3.8.12"
  },
  "varInspector": {
   "cols": {
    "lenName": 16,
    "lenType": 16,
    "lenVar": 40
   },
   "kernels_config": {
    "python": {
     "delete_cmd_postfix": "",
     "delete_cmd_prefix": "del ",
     "library": "var_list.py",
     "varRefreshCmd": "print(var_dic_list())"
    },
    "r": {
     "delete_cmd_postfix": ") ",
     "delete_cmd_prefix": "rm(",
     "library": "var_list.r",
     "varRefreshCmd": "cat(var_dic_list()) "
    }
   },
   "types_to_exclude": [
    "module",
    "function",
    "builtin_function_or_method",
    "instance",
    "_Feature"
   ],
   "window_display": false
  }
 },
 "nbformat": 4,
 "nbformat_minor": 5
}
