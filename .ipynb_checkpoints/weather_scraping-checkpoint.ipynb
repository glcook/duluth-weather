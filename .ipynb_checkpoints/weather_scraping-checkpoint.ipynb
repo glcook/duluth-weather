{
 "cells": [
  {
   "cell_type": "code",
   "execution_count": 96,
   "id": "5e6c36c0",
   "metadata": {},
   "outputs": [],
   "source": [
    "from bs4 import BeautifulSoup\n",
    "import requests\n",
    "import datetime"
   ]
  },
  {
   "cell_type": "code",
   "execution_count": 116,
   "id": "57d77833",
   "metadata": {},
   "outputs": [],
   "source": [
    "# Create list of dates in url query format for almanac.com from Jan 1 1990 to May 31 2022\n",
    "\n",
    "start_date = datetime.datetime(1990, 1, 1, 0, 0, 0, 0)\n",
    "end_date = datetime.datetime(2022, 6, 1, 0, 0, 0, 0) # Use June 1 as end bc loop will not execute last for last date\n",
    "# end_date = datetime.datetime(1990, 1, 3, 0, 0, 0, 0) # Use June 1 as end bc loop will not execute last for last date\n",
    "\n",
    "delta = end_date - start_date\n",
    "num_days = delta.days\n",
    "\n",
    "date_list = []\n",
    "\n",
    "for i in range(num_days):\n",
    "    cur_date = start_date + datetime.timedelta(days=i)\n",
    "    date_list.append(cur_date.strftime('%Y-%m-%d'))"
   ]
  },
  {
   "cell_type": "code",
   "execution_count": 135,
   "id": "5214462b",
   "metadata": {},
   "outputs": [
    {
     "name": "stdout",
     "output_type": "stream",
     "text": [
      "1990-01-01 done -- 0.00% complete -- 2022-06-02, 15:02:25\n",
      "1990-01-02 done -- 50.00% complete -- 2022-06-02, 15:02:26\n"
     ]
    }
   ],
   "source": [
    "# Scrape data for each date from almanac.com and store in dictionary\n",
    "\n",
    "base_url = \"https://www.almanac.com/weather/history/MN/Duluth/\"\n",
    "weather_data = {}\n",
    "day = 0\n",
    "\n",
    "for d in date_list:\n",
    "    url = base_url + d\n",
    "    result = requests.get(url)\n",
    "    doc = BeautifulSoup(result.text, \"html.parser\")\n",
    "    \n",
    "    cur_headers = []\n",
    "    for header in doc.find_all('th'):\n",
    "        if (header.h3 is not None):\n",
    "            cur_headers.append(header.contents[0].string)\n",
    "            \n",
    "    cur_data = []\n",
    "    for i in doc.find_all('td'):\n",
    "        cur_data.append(i.p.contents[0].string)\n",
    "        \n",
    "    out_dict = {}\n",
    "    for hdr, dta in zip(cur_headers, cur_data):\n",
    "        out_dict[hdr] = dta\n",
    "        \n",
    "    weather_data[d] = out_dict\n",
    "    \n",
    "    pct_complete = float(day / num_days)\n",
    "    tmstmp = datetime.datetime.now().strftime('%Y-%m-%d, %H:%M:%S')\n",
    "    day += 1\n",
    "    \n",
    "    print(f\"{d} done -- {pct_complete:.2%} complete -- {tmstmp}\")"
   ]
  },
  {
   "cell_type": "code",
   "execution_count": null,
   "id": "9966bf63",
   "metadata": {},
   "outputs": [],
   "source": []
  }
 ],
 "metadata": {
  "kernelspec": {
   "display_name": "Python 3 (ipykernel)",
   "language": "python",
   "name": "python3"
  },
  "language_info": {
   "codemirror_mode": {
    "name": "ipython",
    "version": 3
   },
   "file_extension": ".py",
   "mimetype": "text/x-python",
   "name": "python",
   "nbconvert_exporter": "python",
   "pygments_lexer": "ipython3",
   "version": "3.8.12"
  },
  "varInspector": {
   "cols": {
    "lenName": 16,
    "lenType": 16,
    "lenVar": 40
   },
   "kernels_config": {
    "python": {
     "delete_cmd_postfix": "",
     "delete_cmd_prefix": "del ",
     "library": "var_list.py",
     "varRefreshCmd": "print(var_dic_list())"
    },
    "r": {
     "delete_cmd_postfix": ") ",
     "delete_cmd_prefix": "rm(",
     "library": "var_list.r",
     "varRefreshCmd": "cat(var_dic_list()) "
    }
   },
   "types_to_exclude": [
    "module",
    "function",
    "builtin_function_or_method",
    "instance",
    "_Feature"
   ],
   "window_display": false
  }
 },
 "nbformat": 4,
 "nbformat_minor": 5
}
